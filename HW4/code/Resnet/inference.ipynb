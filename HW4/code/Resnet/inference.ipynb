{
  "nbformat": 4,
  "nbformat_minor": 0,
  "metadata": {
    "colab": {
      "provenance": [],
      "gpuType": "T4"
    },
    "kernelspec": {
      "name": "python3",
      "display_name": "Python 3"
    },
    "language_info": {
      "name": "python"
    },
    "accelerator": "GPU"
  },
  "cells": [
    {
      "cell_type": "code",
      "execution_count": 2,
      "metadata": {
        "colab": {
          "base_uri": "https://localhost:8080/"
        },
        "id": "rFc6Ibpl5W54",
        "outputId": "5df5e857-e3a0-4691-ab02-299c8b15ff4f"
      },
      "outputs": [
        {
          "output_type": "stream",
          "name": "stdout",
          "text": [
            "Mounted at /content/drive\n"
          ]
        }
      ],
      "source": [
        "from google.colab import drive\n",
        "drive.mount('/content/drive')"
      ]
    },
    {
      "cell_type": "code",
      "source": [
        "import os\n",
        "import zipfile\n",
        "zip_path = \"/content/drive/MyDrive/ML/data.zip\"\n",
        "unzip_path = \"/content/data\"\n",
        "if not os.path.exists(unzip_path):\n",
        "    with zipfile.ZipFile(zip_path, 'r') as zip_ref:\n",
        "        zip_ref.extractall(unzip_path)"
      ],
      "metadata": {
        "id": "8OhIzO735kh7"
      },
      "execution_count": 3,
      "outputs": []
    },
    {
      "cell_type": "code",
      "source": [
        "import torch\n",
        "import torch.nn as nn\n",
        "import torch.optim as optim\n",
        "from torch.utils.data import DataLoader, random_split, Dataset\n",
        "from torchvision import datasets, transforms, models\n",
        "from torchvision.models import ResNet50_Weights\n",
        "from tqdm import tqdm"
      ],
      "metadata": {
        "id": "B98ITlOd5nK4"
      },
      "execution_count": 4,
      "outputs": []
    },
    {
      "cell_type": "code",
      "source": [
        "# load pretrain resenet model\n",
        "weights = ResNet50_Weights.DEFAULT\n",
        "model = models.resnet50(weights=weights)\n",
        "model.fc = nn.Linear(model.fc.in_features, 7)"
      ],
      "metadata": {
        "colab": {
          "base_uri": "https://localhost:8080/"
        },
        "id": "C50X88eu50Ha",
        "outputId": "10556537-4115-48b0-d84a-d944b9b2156f"
      },
      "execution_count": 5,
      "outputs": [
        {
          "output_type": "stream",
          "name": "stderr",
          "text": [
            "Downloading: \"https://download.pytorch.org/models/resnet50-11ad3fa6.pth\" to /root/.cache/torch/hub/checkpoints/resnet50-11ad3fa6.pth\n",
            "100%|██████████| 97.8M/97.8M [00:01<00:00, 57.6MB/s]\n"
          ]
        }
      ]
    },
    {
      "cell_type": "code",
      "source": [
        "device = torch.device(\"cuda\" if torch.cuda.is_available() else \"cpu\")\n",
        "model = model.to(device)"
      ],
      "metadata": {
        "id": "kE2oZLOE6zf5"
      },
      "execution_count": 6,
      "outputs": []
    },
    {
      "cell_type": "code",
      "source": [
        "# Load the trained model and evaluate\n",
        "model.load_state_dict(torch.load(\"/content/drive/MyDrive/ML/resnet_no_validate.pth\"))"
      ],
      "metadata": {
        "colab": {
          "base_uri": "https://localhost:8080/"
        },
        "id": "0OzKn5k17rr0",
        "outputId": "6fe96718-6874-4186-d4ae-b80613d5543c"
      },
      "execution_count": 7,
      "outputs": [
        {
          "output_type": "stream",
          "name": "stderr",
          "text": [
            "<ipython-input-7-0f5be5a424c0>:2: FutureWarning: You are using `torch.load` with `weights_only=False` (the current default value), which uses the default pickle module implicitly. It is possible to construct malicious pickle data which will execute arbitrary code during unpickling (See https://github.com/pytorch/pytorch/blob/main/SECURITY.md#untrusted-models for more details). In a future release, the default value for `weights_only` will be flipped to `True`. This limits the functions that could be executed during unpickling. Arbitrary objects will no longer be allowed to be loaded via this mode unless they are explicitly allowlisted by the user via `torch.serialization.add_safe_globals`. We recommend you start setting `weights_only=True` for any use case where you don't have full control of the loaded file. Please open an issue on GitHub for any issues related to this experimental feature.\n",
            "  model.load_state_dict(torch.load(\"/content/drive/MyDrive/ML/resnet_no_validate.pth\"))\n"
          ]
        },
        {
          "output_type": "execute_result",
          "data": {
            "text/plain": [
              "<All keys matched successfully>"
            ]
          },
          "metadata": {},
          "execution_count": 7
        }
      ]
    },
    {
      "cell_type": "code",
      "source": [
        "total_params = sum(p.numel() for p in model.parameters())\n",
        "print(f\"Total number of model parameters: {total_params}\")"
      ],
      "metadata": {
        "colab": {
          "base_uri": "https://localhost:8080/"
        },
        "id": "Tke802ic645d",
        "outputId": "171240f7-a055-4d3d-c8af-a19a7ddb3033"
      },
      "execution_count": 8,
      "outputs": [
        {
          "output_type": "stream",
          "name": "stdout",
          "text": [
            "Total number of model parameters: 23522375\n"
          ]
        }
      ]
    },
    {
      "cell_type": "code",
      "source": [
        "test_transform = transforms.Compose([\n",
        "    transforms.Grayscale(num_output_channels=3),\n",
        "    transforms.ToTensor(),\n",
        "    transforms.Normalize(mean=[0.5, 0.5, 0.5], std=[0.5, 0.5, 0.5])\n",
        "])"
      ],
      "metadata": {
        "id": "hyYf1lKN5oDf"
      },
      "execution_count": 9,
      "outputs": []
    },
    {
      "cell_type": "code",
      "source": [
        "from PIL import Image\n",
        "import glob\n",
        "\n",
        "class TestingDataset(Dataset):\n",
        "    def __init__(self, img_dir, transform=None):\n",
        "        self.img_dir = img_dir\n",
        "        self.transform = transform\n",
        "        self.images = []\n",
        "        self.names = []\n",
        "\n",
        "        self.images = sorted(glob.glob(f\"{self.img_dir}/*\"))\n",
        "        self.names = [os.path.basename(image)[:-4] for image in self.images]\n",
        "\n",
        "    def __len__(self):\n",
        "        return len(self.images)\n",
        "\n",
        "    def __getnames__(self):\n",
        "        return self.names\n",
        "\n",
        "    def __getitem__(self, idx):\n",
        "        image = Image.open(self.images[idx]).convert(\"L\")\n",
        "        image = self.transform(image)\n",
        "        return image"
      ],
      "metadata": {
        "id": "OsE94rVP5u9w"
      },
      "execution_count": 10,
      "outputs": []
    },
    {
      "cell_type": "code",
      "source": [
        "batch_size = 32\n",
        "test_data = TestingDataset(f\"{unzip_path}/data/Images/test\", test_transform)\n",
        "print(f\"Total testing data: {test_data.__len__()}\")\n",
        "test_loader = DataLoader(test_data, batch_size=batch_size, shuffle=False)"
      ],
      "metadata": {
        "colab": {
          "base_uri": "https://localhost:8080/"
        },
        "id": "88Co0pMO5wXS",
        "outputId": "4446692c-cd0c-41f6-ff1c-338fffc32591"
      },
      "execution_count": 11,
      "outputs": [
        {
          "output_type": "stream",
          "name": "stdout",
          "text": [
            "Total testing data: 3589\n"
          ]
        }
      ]
    },
    {
      "cell_type": "code",
      "source": [
        "import pandas as pd\n",
        "\n",
        "model.eval()\n",
        "predictions = []\n",
        "with torch.no_grad():\n",
        "  for i, images in enumerate(tqdm(test_loader)):\n",
        "    images = images.to(device)\n",
        "    logits = model(images)\n",
        "    predictions.extend(logits.argmax(dim=-1).cpu().numpy().tolist())\n",
        "\n",
        "# 預設的 index_mapping\n",
        "index_mapping = {\"Angry\": 0, \"Disgust\": 1, \"Fear\": 2, \"Happy\": 3, \"Neutral\": 4, \"Sad\": 5, \"Surprise\": 6}\n",
        "\n",
        "# 將預測索引轉換為對應類別名稱\n",
        "class_dic = {v: k for k, v in index_mapping.items()}\n",
        "predictions = [class_dic[pred] for pred in predictions]  # 索引 -> 類別名稱\n",
        "\n",
        "# 模擬測試資料的檔案名稱\n",
        "filenames = test_data.__getnames__()\n",
        "\n",
        "# 將類別名稱轉為指定的數字標籤\n",
        "labels = [index_mapping[pred] for pred in predictions]\n",
        "\n",
        "# 建立 DataFrame 並輸出到 CSV\n",
        "submission = pd.DataFrame({\"filename\": filenames, \"label\": labels})\n",
        "submission.to_csv(\"/content/drive/MyDrive/ML/resnet_no_validate.csv\", index=False)"
      ],
      "metadata": {
        "colab": {
          "base_uri": "https://localhost:8080/"
        },
        "id": "Lrdza9wS52BT",
        "outputId": "3c0525e6-b70a-4eb0-bf57-b8c28b7cad68"
      },
      "execution_count": 13,
      "outputs": [
        {
          "output_type": "stream",
          "name": "stderr",
          "text": [
            "100%|██████████| 113/113 [00:04<00:00, 25.96it/s]\n"
          ]
        }
      ]
    }
  ]
}