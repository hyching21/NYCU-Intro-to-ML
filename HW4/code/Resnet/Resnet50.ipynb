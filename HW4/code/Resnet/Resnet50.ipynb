{
  "nbformat": 4,
  "nbformat_minor": 0,
  "metadata": {
    "colab": {
      "provenance": [],
      "gpuType": "T4"
    },
    "kernelspec": {
      "name": "python3",
      "display_name": "Python 3"
    },
    "language_info": {
      "name": "python"
    },
    "accelerator": "GPU"
  },
  "cells": [
    {
      "cell_type": "code",
      "source": [
        "from google.colab import drive\n",
        "drive.mount('/content/drive')"
      ],
      "metadata": {
        "colab": {
          "base_uri": "https://localhost:8080/"
        },
        "id": "HQT4abCaaQQW",
        "outputId": "85da3070-6ef8-45bc-a083-70622b41ac7a"
      },
      "execution_count": null,
      "outputs": [
        {
          "output_type": "stream",
          "name": "stdout",
          "text": [
            "Mounted at /content/drive\n"
          ]
        }
      ]
    },
    {
      "cell_type": "code",
      "source": [
        "import os\n",
        "import zipfile\n",
        "zip_path = \"/content/drive/MyDrive/ML/data.zip\"\n",
        "unzip_path = \"/content/data\"\n",
        "if not os.path.exists(unzip_path):\n",
        "    with zipfile.ZipFile(zip_path, 'r') as zip_ref:\n",
        "        zip_ref.extractall(unzip_path)"
      ],
      "metadata": {
        "id": "JALV9F-TiYhL"
      },
      "execution_count": null,
      "outputs": []
    },
    {
      "cell_type": "code",
      "execution_count": 1,
      "metadata": {
        "id": "5j2mhhe0ZtYj"
      },
      "outputs": [],
      "source": [
        "import torch\n",
        "import torch.nn as nn\n",
        "import torch.optim as optim\n",
        "from torch.utils.data import DataLoader, random_split, Dataset\n",
        "from torchvision import datasets, transforms, models\n",
        "from torchvision.models import ResNet50_Weights\n",
        "from tqdm import tqdm"
      ]
    },
    {
      "cell_type": "code",
      "source": [
        "# set hyperparameters\n",
        "batch_size = 32\n",
        "learning_rate = 0.001\n",
        "num_epochs = 20"
      ],
      "metadata": {
        "id": "eZ3BrTFgZx5E"
      },
      "execution_count": 2,
      "outputs": []
    },
    {
      "cell_type": "code",
      "source": [
        "# data preprocessing\n",
        "transform = transforms.Compose([\n",
        "    transforms.RandomHorizontalFlip(),\n",
        "    transforms.RandomCrop(44, padding=4),\n",
        "    transforms.RandomRotation(10),\n",
        "    transforms.RandomAffine(degrees=15, scale=(0.8, 1.2)),\n",
        "    transforms.ToTensor(),\n",
        "    transforms.Normalize(mean=[0.5], std=[0.5])\n",
        "])"
      ],
      "metadata": {
        "id": "gOnRIGozZyzo"
      },
      "execution_count": null,
      "outputs": []
    },
    {
      "cell_type": "code",
      "source": [
        "# prepare dataset\n",
        "# (train)\n",
        "train_data = datasets.ImageFolder(root=f\"{unzip_path}/data/Images/train\", transform=transform)\n",
        "print(f\"Total training data: {train_data.__len__()}\")"
      ],
      "metadata": {
        "colab": {
          "base_uri": "https://localhost:8080/"
        },
        "id": "WCNvGiEjZ1G7",
        "outputId": "de057ad6-dcb8-429c-b166-2ecaa76a586f"
      },
      "execution_count": null,
      "outputs": [
        {
          "output_type": "stream",
          "name": "stdout",
          "text": [
            "Total training data: 28709\n"
          ]
        }
      ]
    },
    {
      "cell_type": "code",
      "source": [
        "# split data into train & validate\n",
        "# train_size = int(0.8 * len(train_data))\n",
        "# val_size = len(train_data) - train_size\n",
        "# train_data, val_data = random_split(train_data, [train_size, val_size])\n",
        "\n",
        "train_loader = DataLoader(train_data, batch_size=batch_size, shuffle=True)\n",
        "# val_loader = DataLoader(val_data, batch_size=batch_size, shuffle=False)"
      ],
      "metadata": {
        "id": "0u4195Jgir3N"
      },
      "execution_count": null,
      "outputs": []
    },
    {
      "cell_type": "code",
      "source": [
        "# load pretrain resenet model\n",
        "weights = ResNet50_Weights.DEFAULT\n",
        "model = models.resnet50(weights=weights)\n",
        "# model = models.resnet50(pretrained=True)\n",
        "model.fc = nn.Linear(model.fc.in_features, 7) # Replace final layer to classify 7 emotions"
      ],
      "metadata": {
        "colab": {
          "base_uri": "https://localhost:8080/"
        },
        "id": "G-6JdA4rZ28L",
        "outputId": "4e97e98c-b3c3-4959-c602-01dab93ace65"
      },
      "execution_count": 3,
      "outputs": [
        {
          "output_type": "stream",
          "name": "stderr",
          "text": [
            "Downloading: \"https://download.pytorch.org/models/resnet50-11ad3fa6.pth\" to /root/.cache/torch/hub/checkpoints/resnet50-11ad3fa6.pth\n",
            "100%|██████████| 97.8M/97.8M [00:00<00:00, 160MB/s]\n"
          ]
        }
      ]
    },
    {
      "cell_type": "code",
      "source": [
        "# move model to GPU (or CPU)\n",
        "device = torch.device(\"cuda\" if torch.cuda.is_available() else \"cpu\")\n",
        "model = model.to(device)"
      ],
      "metadata": {
        "id": "JjFE-9FeZ5Cm"
      },
      "execution_count": 4,
      "outputs": []
    },
    {
      "cell_type": "code",
      "source": [
        "print(f\"Using device: {device}\")"
      ],
      "metadata": {
        "colab": {
          "base_uri": "https://localhost:8080/"
        },
        "id": "L5bTCk73jaLK",
        "outputId": "253ea8a9-82f9-4a1d-d230-fa4c21c446bc"
      },
      "execution_count": null,
      "outputs": [
        {
          "output_type": "stream",
          "name": "stdout",
          "text": [
            "Using device: cuda\n"
          ]
        }
      ]
    },
    {
      "cell_type": "markdown",
      "source": [
        "### Train"
      ],
      "metadata": {
        "id": "A0rTh6KxrHsG"
      }
    },
    {
      "cell_type": "code",
      "source": [
        "# loss function & optimizer\n",
        "criterion = nn.CrossEntropyLoss()\n",
        "# optimizer = optim.Adam(model.parameters(), lr=learning_rate)\n",
        "optimizer = torch.optim.SGD(\n",
        "    model.parameters(), lr=learning_rate, momentum=0.9, weight_decay=1e-4\n",
        ")\n",
        "# scheduler = torch.optim.lr_scheduler.CosineAnnealingLR(optimizer, T_max=num_epochs)\n",
        "scheduler = torch.optim.lr_scheduler.ReduceLROnPlateau(optimizer, mode='max', factor=0.1, patience=3, verbose=True)"
      ],
      "metadata": {
        "id": "H8bzo6hiZ7vy",
        "colab": {
          "base_uri": "https://localhost:8080/"
        },
        "outputId": "b7b14c76-e1a5-452f-9cd8-83f69ffed9fe"
      },
      "execution_count": 5,
      "outputs": [
        {
          "output_type": "stream",
          "name": "stderr",
          "text": [
            "/usr/local/lib/python3.10/dist-packages/torch/optim/lr_scheduler.py:62: UserWarning: The verbose parameter is deprecated. Please use get_last_lr() to access the learning rate.\n",
            "  warnings.warn(\n"
          ]
        }
      ]
    },
    {
      "cell_type": "code",
      "source": [
        "total_params = sum(p.numel() for p in model.parameters())\n",
        "print(f\"Total number of model parameters: {total_params}\")"
      ],
      "metadata": {
        "colab": {
          "base_uri": "https://localhost:8080/"
        },
        "id": "csXuE41z5Gn_",
        "outputId": "ee498d4e-c1c5-47f4-ca50-bd5a6a4ead70"
      },
      "execution_count": 6,
      "outputs": [
        {
          "output_type": "stream",
          "name": "stdout",
          "text": [
            "Total number of model parameters: 23522375\n"
          ]
        }
      ]
    },
    {
      "cell_type": "code",
      "source": [
        "# train loop!\n",
        "best_val_acc = 0.0\n",
        "for epoch in range(num_epochs):\n",
        "    model.train()\n",
        "    running_loss = 0.0\n",
        "    correct = 0\n",
        "    total = 0\n",
        "    with tqdm(train_loader, unit=\"batch\") as tepoch:\n",
        "        tepoch.set_description(f\"Epoch {epoch + 1}/{num_epochs}\")\n",
        "        for i, (images, labels) in enumerate(tepoch):\n",
        "          images, labels = images.to(device), labels.to(device)\n",
        "\n",
        "          # Forward pass\n",
        "          outputs = model(images)\n",
        "          loss = criterion(outputs, labels)\n",
        "\n",
        "          # Backward pass and optimization\n",
        "          optimizer.zero_grad()\n",
        "          loss.backward()\n",
        "          optimizer.step()\n",
        "\n",
        "          running_loss += loss.item() * images.size(0)\n",
        "          _, predicted = torch.max(outputs, 1)\n",
        "          correct += (predicted == labels).sum().item()\n",
        "          total += labels.size(0)\n",
        "\n",
        "          if i % 10 == 0:  # 每 10 個 batch 更新一次\n",
        "            tepoch.set_postfix(loss=loss.item(), accuracy=correct/total)\n",
        "    # Update scheduler\n",
        "    scheduler.step()\n",
        "    # print this epoch result\n",
        "    epoch_loss = running_loss / total\n",
        "    epoch_acc = correct / total\n",
        "    print(f\"Epoch {epoch + 1}/{num_epochs}, Loss: {epoch_loss:.4f}, Accuracy: {epoch_acc:.4f}\")\n",
        "\n",
        "    # Validation Loop\n",
        "    # model.eval()\n",
        "    # val_running_loss = 0.0\n",
        "    # val_correct = 0\n",
        "    # val_total = 0\n",
        "    # with torch.no_grad():\n",
        "    #     with tqdm(val_loader, unit=\"batch\") as vepoch:\n",
        "    #         vepoch.set_description(f\"Validation {epoch + 1}/{num_epochs}\")\n",
        "    #         for images, labels in vepoch:\n",
        "    #             images, labels = images.to(device), labels.to(device)\n",
        "\n",
        "    #             outputs = model(images)\n",
        "    #             loss = criterion(outputs, labels)\n",
        "\n",
        "    #             val_running_loss += loss.item() * images.size(0)\n",
        "    #             _, predicted = torch.max(outputs, 1)\n",
        "    #             val_correct += (predicted == labels).sum().item()\n",
        "    #             val_total += labels.size(0)\n",
        "\n",
        "    #             vepoch.set_postfix(loss=loss.item(), accuracy=val_correct/val_total)\n",
        "\n",
        "    # val_epoch_loss = val_running_loss / val_total\n",
        "    # val_epoch_acc = val_correct / val_total\n",
        "    # print(f\"Validation Loss: {val_epoch_loss:.4f}, Validation Accuracy: {val_epoch_acc:.4f}\")\n",
        "    # # Save best model\n",
        "    # if val_epoch_acc > best_val_acc:\n",
        "    #     best_val_acc = val_epoch_acc\n",
        "    #     torch.save(model.state_dict(), \"resnet_with_scheduler.pth\")\n",
        "    #     print(\"Best model saved!\")"
      ],
      "metadata": {
        "colab": {
          "base_uri": "https://localhost:8080/"
        },
        "id": "QoMIypGEZ6pv",
        "outputId": "7b9518a0-293f-4e1f-95ab-917f295e8124"
      },
      "execution_count": null,
      "outputs": [
        {
          "metadata": {
            "tags": null
          },
          "name": "stderr",
          "output_type": "stream",
          "text": [
            "Epoch 1/20: 100%|██████████| 898/898 [00:53<00:00, 16.66batch/s, accuracy=0.764, loss=0.506]\n"
          ]
        },
        {
          "metadata": {
            "tags": null
          },
          "name": "stdout",
          "output_type": "stream",
          "text": [
            "Epoch 1/20, Loss: 0.6693, Accuracy: 0.7637\n"
          ]
        },
        {
          "metadata": {
            "tags": null
          },
          "name": "stderr",
          "output_type": "stream",
          "text": [
            "Epoch 2/20: 100%|██████████| 898/898 [00:53<00:00, 16.90batch/s, accuracy=0.763, loss=0.503]\n"
          ]
        },
        {
          "metadata": {
            "tags": null
          },
          "name": "stdout",
          "output_type": "stream",
          "text": [
            "Epoch 2/20, Loss: 0.6686, Accuracy: 0.7634\n"
          ]
        },
        {
          "metadata": {
            "tags": null
          },
          "name": "stderr",
          "output_type": "stream",
          "text": [
            "Epoch 3/20: 100%|██████████| 898/898 [00:56<00:00, 15.79batch/s, accuracy=0.77, loss=1]\n"
          ]
        },
        {
          "metadata": {
            "tags": null
          },
          "name": "stdout",
          "output_type": "stream",
          "text": [
            "Epoch 3/20, Loss: 0.6592, Accuracy: 0.7697\n"
          ]
        },
        {
          "metadata": {
            "tags": null
          },
          "name": "stderr",
          "output_type": "stream",
          "text": [
            "Epoch 4/20: 100%|██████████| 898/898 [00:54<00:00, 16.43batch/s, accuracy=0.767, loss=0.454]\n"
          ]
        },
        {
          "metadata": {
            "tags": null
          },
          "name": "stdout",
          "output_type": "stream",
          "text": [
            "Epoch 4/20, Loss: 0.6535, Accuracy: 0.7673\n"
          ]
        },
        {
          "metadata": {
            "tags": null
          },
          "name": "stderr",
          "output_type": "stream",
          "text": [
            "Epoch 5/20: 100%|██████████| 898/898 [00:53<00:00, 16.71batch/s, accuracy=0.768, loss=0.62]\n"
          ]
        },
        {
          "metadata": {
            "tags": null
          },
          "name": "stdout",
          "output_type": "stream",
          "text": [
            "Epoch 5/20, Loss: 0.6529, Accuracy: 0.7676\n"
          ]
        },
        {
          "metadata": {
            "tags": null
          },
          "name": "stderr",
          "output_type": "stream",
          "text": [
            "Epoch 6/20: 100%|██████████| 898/898 [00:53<00:00, 16.78batch/s, accuracy=0.776, loss=0.437]\n"
          ]
        },
        {
          "metadata": {
            "tags": null
          },
          "name": "stdout",
          "output_type": "stream",
          "text": [
            "Epoch 6/20, Loss: 0.6346, Accuracy: 0.7765\n"
          ]
        },
        {
          "metadata": {
            "tags": null
          },
          "name": "stderr",
          "output_type": "stream",
          "text": [
            "Epoch 7/20: 100%|██████████| 898/898 [00:53<00:00, 16.79batch/s, accuracy=0.778, loss=0.846]\n"
          ]
        },
        {
          "metadata": {
            "tags": null
          },
          "name": "stdout",
          "output_type": "stream",
          "text": [
            "Epoch 7/20, Loss: 0.6199, Accuracy: 0.7783\n"
          ]
        },
        {
          "metadata": {
            "tags": null
          },
          "name": "stderr",
          "output_type": "stream",
          "text": [
            "Epoch 8/20: 100%|██████████| 898/898 [00:53<00:00, 16.93batch/s, accuracy=0.781, loss=0.535]\n"
          ]
        },
        {
          "metadata": {
            "tags": null
          },
          "name": "stdout",
          "output_type": "stream",
          "text": [
            "Epoch 8/20, Loss: 0.6150, Accuracy: 0.7806\n"
          ]
        },
        {
          "metadata": {
            "tags": null
          },
          "name": "stderr",
          "output_type": "stream",
          "text": [
            "Epoch 9/20: 100%|██████████| 898/898 [00:52<00:00, 16.95batch/s, accuracy=0.785, loss=0.951]\n"
          ]
        },
        {
          "metadata": {
            "tags": null
          },
          "name": "stdout",
          "output_type": "stream",
          "text": [
            "Epoch 9/20, Loss: 0.5963, Accuracy: 0.7851\n"
          ]
        },
        {
          "metadata": {
            "tags": null
          },
          "name": "stderr",
          "output_type": "stream",
          "text": [
            "Epoch 10/20: 100%|██████████| 898/898 [00:53<00:00, 16.64batch/s, accuracy=0.792, loss=0.652]\n"
          ]
        },
        {
          "metadata": {
            "tags": null
          },
          "name": "stdout",
          "output_type": "stream",
          "text": [
            "Epoch 10/20, Loss: 0.5819, Accuracy: 0.7925\n"
          ]
        },
        {
          "metadata": {
            "tags": null
          },
          "name": "stderr",
          "output_type": "stream",
          "text": [
            "Epoch 11/20: 100%|██████████| 898/898 [00:54<00:00, 16.45batch/s, accuracy=0.798, loss=0.81]\n"
          ]
        },
        {
          "metadata": {
            "tags": null
          },
          "name": "stdout",
          "output_type": "stream",
          "text": [
            "Epoch 11/20, Loss: 0.5647, Accuracy: 0.7975\n"
          ]
        },
        {
          "metadata": {
            "tags": null
          },
          "name": "stderr",
          "output_type": "stream",
          "text": [
            "Epoch 12/20: 100%|██████████| 898/898 [00:52<00:00, 17.02batch/s, accuracy=0.803, loss=0.416]\n"
          ]
        },
        {
          "metadata": {
            "tags": null
          },
          "name": "stdout",
          "output_type": "stream",
          "text": [
            "Epoch 12/20, Loss: 0.5465, Accuracy: 0.8033\n"
          ]
        },
        {
          "metadata": {
            "tags": null
          },
          "name": "stderr",
          "output_type": "stream",
          "text": [
            "Epoch 13/20: 100%|██████████| 898/898 [00:54<00:00, 16.62batch/s, accuracy=0.808, loss=0.533]\n"
          ]
        },
        {
          "metadata": {
            "tags": null
          },
          "name": "stdout",
          "output_type": "stream",
          "text": [
            "Epoch 13/20, Loss: 0.5294, Accuracy: 0.8081\n"
          ]
        },
        {
          "metadata": {
            "tags": null
          },
          "name": "stderr",
          "output_type": "stream",
          "text": [
            "Epoch 14/20: 100%|██████████| 898/898 [00:53<00:00, 16.83batch/s, accuracy=0.818, loss=0.404]\n"
          ]
        },
        {
          "metadata": {
            "tags": null
          },
          "name": "stdout",
          "output_type": "stream",
          "text": [
            "Epoch 14/20, Loss: 0.5045, Accuracy: 0.8178\n"
          ]
        },
        {
          "metadata": {
            "tags": null
          },
          "name": "stderr",
          "output_type": "stream",
          "text": [
            "Epoch 15/20: 100%|██████████| 898/898 [00:53<00:00, 16.74batch/s, accuracy=0.824, loss=0.411]\n"
          ]
        },
        {
          "metadata": {
            "tags": null
          },
          "name": "stdout",
          "output_type": "stream",
          "text": [
            "Epoch 15/20, Loss: 0.4879, Accuracy: 0.8235\n"
          ]
        },
        {
          "metadata": {
            "tags": null
          },
          "name": "stderr",
          "output_type": "stream",
          "text": [
            "Epoch 16/20: 100%|██████████| 898/898 [00:54<00:00, 16.56batch/s, accuracy=0.831, loss=0.599]\n"
          ]
        },
        {
          "metadata": {
            "tags": null
          },
          "name": "stdout",
          "output_type": "stream",
          "text": [
            "Epoch 16/20, Loss: 0.4704, Accuracy: 0.8306\n"
          ]
        },
        {
          "metadata": {
            "tags": null
          },
          "name": "stderr",
          "output_type": "stream",
          "text": [
            "Epoch 17/20: 100%|██████████| 898/898 [00:53<00:00, 16.70batch/s, accuracy=0.841, loss=0.373]\n"
          ]
        },
        {
          "metadata": {
            "tags": null
          },
          "name": "stdout",
          "output_type": "stream",
          "text": [
            "Epoch 17/20, Loss: 0.4448, Accuracy: 0.8407\n"
          ]
        },
        {
          "output_type": "stream",
          "name": "stderr",
          "text": [
            "Epoch 18/20: 100%|██████████| 898/898 [00:53<00:00, 16.71batch/s, accuracy=0.848, loss=0.217]\n"
          ]
        },
        {
          "output_type": "stream",
          "name": "stdout",
          "text": [
            "Epoch 18/20, Loss: 0.4268, Accuracy: 0.8476\n"
          ]
        },
        {
          "output_type": "stream",
          "name": "stderr",
          "text": [
            "Epoch 19/20: 100%|██████████| 898/898 [00:54<00:00, 16.48batch/s, accuracy=0.861, loss=0.468]\n"
          ]
        },
        {
          "output_type": "stream",
          "name": "stdout",
          "text": [
            "Epoch 19/20, Loss: 0.3919, Accuracy: 0.8604\n"
          ]
        },
        {
          "output_type": "stream",
          "name": "stderr",
          "text": [
            "Epoch 20/20: 100%|██████████| 898/898 [00:53<00:00, 16.80batch/s, accuracy=0.863, loss=0.413]"
          ]
        },
        {
          "output_type": "stream",
          "name": "stdout",
          "text": [
            "Epoch 20/20, Loss: 0.3811, Accuracy: 0.8628\n"
          ]
        },
        {
          "output_type": "stream",
          "name": "stderr",
          "text": [
            "\n"
          ]
        }
      ]
    },
    {
      "cell_type": "code",
      "source": [
        "# save trained model\n",
        "torch.save(model.state_dict(), \"/content/drive/MyDrive/ML/resnet_no_validate.pth\")\n",
        "print(\"Training complete. Model saved as 'resnet_no_validate.pth'.\")"
      ],
      "metadata": {
        "colab": {
          "base_uri": "https://localhost:8080/"
        },
        "id": "5iyzdMkzZ-SX",
        "outputId": "627c9fbc-8d62-4035-e12c-d9acab7db892"
      },
      "execution_count": null,
      "outputs": [
        {
          "output_type": "stream",
          "name": "stdout",
          "text": [
            "Training complete. Model saved as 'resnet_no_validate.pth'.\n"
          ]
        }
      ]
    },
    {
      "cell_type": "markdown",
      "source": [
        "###Evaluate"
      ],
      "metadata": {
        "id": "EvbyMLxwrBoL"
      }
    },
    {
      "cell_type": "code",
      "source": [
        "test_transform = transforms.Compose([\n",
        "    transforms.Grayscale(num_output_channels=3),  # 將灰階圖片轉為 3 通道\n",
        "    transforms.ToTensor(),\n",
        "    transforms.Normalize(mean=[0.5, 0.5, 0.5], std=[0.5, 0.5, 0.5])  # RGB 通道的 Normalize\n",
        "])"
      ],
      "metadata": {
        "id": "2_SCzr0Cm9G9"
      },
      "execution_count": null,
      "outputs": []
    },
    {
      "cell_type": "code",
      "source": [
        "from PIL import Image\n",
        "import glob\n",
        "\n",
        "class TestingDataset(Dataset):\n",
        "    def __init__(self, img_dir, transform=None):\n",
        "        self.img_dir = img_dir\n",
        "        self.transform = transform\n",
        "        self.images = []\n",
        "        self.names = []\n",
        "\n",
        "        self.images = sorted(glob.glob(f\"{self.img_dir}/*\"))\n",
        "        self.names = [os.path.basename(image)[:-4] for image in self.images]\n",
        "\n",
        "    def __len__(self):\n",
        "        return len(self.images)\n",
        "\n",
        "    def __getnames__(self):\n",
        "        return self.names\n",
        "\n",
        "    def __getitem__(self, idx):\n",
        "        image = Image.open(self.images[idx]).convert(\"L\")\n",
        "        image = self.transform(image)\n",
        "        return image"
      ],
      "metadata": {
        "id": "EzLPJYAdnDBn"
      },
      "execution_count": null,
      "outputs": []
    },
    {
      "cell_type": "code",
      "source": [
        "test_data = TestingDataset(f\"{unzip_path}/data/Images/test\", test_transform)\n",
        "print(f\"Total testing data: {test_data.__len__()}\")\n",
        "test_loader = DataLoader(test_data, batch_size=batch_size, shuffle=False)"
      ],
      "metadata": {
        "colab": {
          "base_uri": "https://localhost:8080/"
        },
        "id": "TbI19UamnM7Y",
        "outputId": "a2e99164-da33-4d78-f57e-a1e25121d580"
      },
      "execution_count": null,
      "outputs": [
        {
          "output_type": "stream",
          "name": "stdout",
          "text": [
            "Total testing data: 3589\n"
          ]
        }
      ]
    },
    {
      "cell_type": "code",
      "source": [
        "# Load the trained model and evaluate\n",
        "model.load_state_dict(torch.load(\"/content/drive/MyDrive/ML/resnet_no_validate.pth\"))"
      ],
      "metadata": {
        "colab": {
          "base_uri": "https://localhost:8080/"
        },
        "id": "Tkc3XnQpnfU5",
        "outputId": "9a16979a-4eb8-49d2-be70-9a3562821bf8"
      },
      "execution_count": null,
      "outputs": [
        {
          "output_type": "stream",
          "name": "stderr",
          "text": [
            "<ipython-input-31-0f5be5a424c0>:2: FutureWarning: You are using `torch.load` with `weights_only=False` (the current default value), which uses the default pickle module implicitly. It is possible to construct malicious pickle data which will execute arbitrary code during unpickling (See https://github.com/pytorch/pytorch/blob/main/SECURITY.md#untrusted-models for more details). In a future release, the default value for `weights_only` will be flipped to `True`. This limits the functions that could be executed during unpickling. Arbitrary objects will no longer be allowed to be loaded via this mode unless they are explicitly allowlisted by the user via `torch.serialization.add_safe_globals`. We recommend you start setting `weights_only=True` for any use case where you don't have full control of the loaded file. Please open an issue on GitHub for any issues related to this experimental feature.\n",
            "  model.load_state_dict(torch.load(\"/content/drive/MyDrive/ML/resnet_no_validate.pth\"))\n"
          ]
        },
        {
          "output_type": "execute_result",
          "data": {
            "text/plain": [
              "<All keys matched successfully>"
            ]
          },
          "metadata": {},
          "execution_count": 31
        }
      ]
    },
    {
      "cell_type": "code",
      "source": [
        "import pandas as pd\n",
        "\n",
        "model.eval()\n",
        "predictions = []\n",
        "with torch.no_grad():\n",
        "  for i, images in enumerate(tqdm(test_loader)):\n",
        "    images = images.to(device)\n",
        "    logits = model(images)\n",
        "    predictions.extend(logits.argmax(dim=-1).cpu().numpy().tolist())\n",
        "\n",
        "# 預設的 index_mapping\n",
        "index_mapping = {\"Angry\": 0, \"Disgust\": 1, \"Fear\": 2, \"Happy\": 3, \"Neutral\": 4, \"Sad\": 5, \"Surprise\": 6}\n",
        "\n",
        "# 將預測索引轉換為對應類別名稱\n",
        "class_dic = {v: k for k, v in index_mapping.items()}\n",
        "predictions = [class_dic[pred] for pred in predictions]  # 索引 -> 類別名稱\n",
        "\n",
        "# 模擬測試資料的檔案名稱\n",
        "filenames = test_data.__getnames__()\n",
        "\n",
        "# 將類別名稱轉為指定的數字標籤\n",
        "labels = [index_mapping[pred] for pred in predictions]\n",
        "\n",
        "# 建立 DataFrame 並輸出到 CSV\n",
        "submission = pd.DataFrame({\"filename\": filenames, \"label\": labels})\n",
        "submission.to_csv(\"/content/drive/MyDrive/ML/resnet_no_validate.csv\", index=False)"
      ],
      "metadata": {
        "colab": {
          "base_uri": "https://localhost:8080/"
        },
        "id": "cf7c7U_unicY",
        "outputId": "85337303-473b-4aac-ecac-cb697c4e383f"
      },
      "execution_count": null,
      "outputs": [
        {
          "output_type": "stream",
          "name": "stderr",
          "text": [
            "100%|██████████| 113/113 [00:05<00:00, 21.87it/s]\n"
          ]
        }
      ]
    }
  ]
}